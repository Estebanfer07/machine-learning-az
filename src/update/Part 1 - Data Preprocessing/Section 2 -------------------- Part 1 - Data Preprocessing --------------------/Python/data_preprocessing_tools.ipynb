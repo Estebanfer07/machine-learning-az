{
  "cells": [
    {
      "cell_type": "markdown",
      "metadata": {
        "colab_type": "text",
        "id": "37puETfgRzzg"
      },
      "source": [
        "# Data Preprocessing Tools"
      ]
    },
    {
      "cell_type": "markdown",
      "metadata": {
        "colab_type": "text",
        "id": "EoRP98MpR-qj"
      },
      "source": [
        "## Importing the libraries"
      ]
    },
    {
      "cell_type": "code",
      "execution_count": 16,
      "metadata": {
        "colab": {},
        "colab_type": "code",
        "id": "N-qiINBQSK2g",
        "notebookRunGroups": {
          "groupValue": ""
        }
      },
      "outputs": [],
      "source": [
        "import numpy as np\n",
        "import matplotlib.pyplot as plt\n",
        "import pandas as pd"
      ]
    },
    {
      "cell_type": "markdown",
      "metadata": {
        "colab_type": "text",
        "id": "RopL7tUZSQkT"
      },
      "source": [
        "## Importing the dataset\n",
        "Para el nombrado de variables se suele seguir la convención de usar letras mayúsculas para cuando se tiene una matriz como en el caso de `X` que representa las variables independientes (n filas y m columnas) mientras que `y` representa, en este caso, un vector de la variable dependiente"
      ]
    },
    {
      "cell_type": "code",
      "execution_count": 17,
      "metadata": {
        "colab": {},
        "colab_type": "code",
        "id": "WwEPNDWySTKm",
        "notebookRunGroups": {
          "groupValue": ""
        }
      },
      "outputs": [
        {
          "name": "stdout",
          "output_type": "stream",
          "text": [
            "   Country   Age   Salary Purchased\n",
            "0   France  44.0  72000.0        No\n",
            "1    Spain  27.0  48000.0       Yes\n",
            "2  Germany  30.0  54000.0        No\n",
            "3    Spain  38.0  61000.0        No\n",
            "4  Germany  40.0      NaN       Yes\n",
            "5   France  35.0  58000.0       Yes\n",
            "6    Spain   NaN  52000.0        No\n",
            "7   France  48.0  79000.0       Yes\n",
            "8  Germany  50.0  83000.0        No\n",
            "9   France  37.0  67000.0       Yes \n",
            "\n",
            " X:\n",
            "[['France' 44.0 72000.0]\n",
            " ['Spain' 27.0 48000.0]\n",
            " ['Germany' 30.0 54000.0]\n",
            " ['Spain' 38.0 61000.0]\n",
            " ['Germany' 40.0 nan]\n",
            " ['France' 35.0 58000.0]\n",
            " ['Spain' nan 52000.0]\n",
            " ['France' 48.0 79000.0]\n",
            " ['Germany' 50.0 83000.0]\n",
            " ['France' 37.0 67000.0]] \n",
            "\n",
            " y: ['No' 'Yes' 'No' 'No' 'Yes' 'Yes' 'No' 'Yes' 'No' 'Yes']\n"
          ]
        }
      ],
      "source": [
        "dataset = pd.read_csv('Data.csv')\n",
        "X = dataset.iloc[:, :-1].values\n",
        "y = dataset.iloc[:, -1].values\n",
        "print(f\"{dataset} \\n\\n X:\\n{X} \\n\\n y: {y}\")"
      ]
    },
    {
      "cell_type": "markdown",
      "metadata": {
        "colab_type": "text",
        "id": "nhfKXNxlSabC"
      },
      "source": [
        "## Taking care of missing data (mean strategy)"
      ]
    },
    {
      "cell_type": "code",
      "execution_count": 18,
      "metadata": {
        "colab": {},
        "colab_type": "code",
        "id": "c93k7ipkSexq"
      },
      "outputs": [
        {
          "name": "stdout",
          "output_type": "stream",
          "text": [
            "         0          1             2\n",
            "0   France       44.0       72000.0\n",
            "1    Spain       27.0       48000.0\n",
            "2  Germany       30.0       54000.0\n",
            "3    Spain       38.0       61000.0\n",
            "4  Germany       40.0  63777.777778\n",
            "5   France       35.0       58000.0\n",
            "6    Spain  38.777778       52000.0\n",
            "7   France       48.0       79000.0\n",
            "8  Germany       50.0       83000.0\n",
            "9   France       37.0       67000.0\n"
          ]
        }
      ],
      "source": [
        "from sklearn.impute import SimpleImputer\n",
        "imputer = SimpleImputer(missing_values=np.nan, strategy='mean')\n",
        "imputer.fit(X[:, 1:3])\n",
        "X[:, 1:3] = imputer.transform(X[:, 1:3])\n",
        "\n",
        "print(pd.DataFrame(X))"
      ]
    },
    {
      "cell_type": "markdown",
      "metadata": {
        "colab_type": "text",
        "id": "CriG6VzVSjcK"
      },
      "source": [
        "## Encoding categorical data"
      ]
    },
    {
      "cell_type": "markdown",
      "metadata": {
        "colab_type": "text",
        "id": "AhSpdQWeSsFh"
      },
      "source": [
        "### Encoding the Independent Variable"
      ]
    },
    {
      "cell_type": "code",
      "execution_count": 19,
      "metadata": {
        "colab": {},
        "colab_type": "code",
        "id": "5hwuVddlSwVi"
      },
      "outputs": [
        {
          "name": "stdout",
          "output_type": "stream",
          "text": [
            "     0    1    2          3             4\n",
            "0  1.0  0.0  0.0       44.0       72000.0\n",
            "1  0.0  0.0  1.0       27.0       48000.0\n",
            "2  0.0  1.0  0.0       30.0       54000.0\n",
            "3  0.0  0.0  1.0       38.0       61000.0\n",
            "4  0.0  1.0  0.0       40.0  63777.777778\n",
            "5  1.0  0.0  0.0       35.0       58000.0\n",
            "6  0.0  0.0  1.0  38.777778       52000.0\n",
            "7  1.0  0.0  0.0       48.0       79000.0\n",
            "8  0.0  1.0  0.0       50.0       83000.0\n",
            "9  1.0  0.0  0.0       37.0       67000.0\n"
          ]
        }
      ],
      "source": [
        "from sklearn.compose import ColumnTransformer\n",
        "from sklearn.preprocessing import OneHotEncoder\n",
        "ct = ColumnTransformer(transformers=[('categorical', OneHotEncoder(), [0])], remainder='passthrough')\n",
        "X = np.array(ct.fit_transform(X))\n",
        "\n",
        "print(pd.DataFrame(X))"
      ]
    },
    {
      "cell_type": "markdown",
      "metadata": {
        "colab_type": "text",
        "id": "DXh8oVSITIc6"
      },
      "source": [
        "### Encoding the Dependent Variable"
      ]
    },
    {
      "cell_type": "code",
      "execution_count": 20,
      "metadata": {
        "colab": {},
        "colab_type": "code",
        "id": "XgHCShVyTOYY"
      },
      "outputs": [
        {
          "data": {
            "text/plain": [
              "array([0, 1, 0, 0, 1, 1, 0, 1, 0, 1])"
            ]
          },
          "execution_count": 20,
          "metadata": {},
          "output_type": "execute_result"
        }
      ],
      "source": [
        "from sklearn.preprocessing import LabelEncoder\n",
        "le = LabelEncoder()\n",
        "y = le.fit_transform(y)\n",
        "y"
      ]
    },
    {
      "cell_type": "markdown",
      "metadata": {
        "colab_type": "text",
        "id": "qb_vcgm3qZKW"
      },
      "source": [
        "## Splitting the dataset into the Training set and Test set"
      ]
    },
    {
      "cell_type": "code",
      "execution_count": 21,
      "metadata": {
        "colab": {},
        "colab_type": "code",
        "id": "pXgA6CzlqbCl"
      },
      "outputs": [
        {
          "name": "stdout",
          "output_type": "stream",
          "text": [
            "X_train:\n",
            "     0    1    2          3             4\n",
            "0  0.0  0.0  1.0  38.777778       52000.0\n",
            "1  0.0  1.0  0.0       40.0  63777.777778\n",
            "2  1.0  0.0  0.0       44.0       72000.0\n",
            "3  0.0  0.0  1.0       38.0       61000.0\n",
            "4  0.0  0.0  1.0       27.0       48000.0\n",
            "5  1.0  0.0  0.0       48.0       79000.0\n",
            "6  0.0  1.0  0.0       50.0       83000.0\n",
            "7  1.0  0.0  0.0       35.0       58000.0 \n",
            "\n",
            " X_test:\n",
            "     0    1    2     3        4\n",
            "0  0.0  1.0  0.0  30.0  54000.0\n",
            "1  1.0  0.0  0.0  37.0  67000.0 \n",
            "\n",
            " y_train:\n",
            "[0 1 0 0 1 1 0 1] \n",
            "\n",
            " y_test:\n",
            "[0 1]\n"
          ]
        }
      ],
      "source": [
        "from sklearn.model_selection import train_test_split\n",
        "X_train, X_test, y_train, y_test = train_test_split(X, y, test_size = 0.2, random_state = 1)\n",
        "\n",
        "print(f\"X_train:\\n{pd.DataFrame(X_train)} \\n\\n X_test:\\n{pd.DataFrame(X_test)} \\n\\n y_train:\\n{y_train} \\n\\n y_test:\\n{y_test}\")"
      ]
    },
    {
      "cell_type": "markdown",
      "metadata": {
        "colab_type": "text",
        "id": "TpGqbS4TqkIR"
      },
      "source": [
        "## Feature Scaling\n",
        "Para el dataset de entrenamiento `X_train` se aplica `fit_transform` mientras que al de test `X_test` se le aplica `transform` para que tome el mismo tipo de transformación que se le aplicó al de entrenamiento.\n",
        "\n",
        "En este ejemplo no se están escalando las variables dummy."
      ]
    },
    {
      "cell_type": "code",
      "execution_count": 22,
      "metadata": {
        "colab": {},
        "colab_type": "code",
        "id": "AxjSUXFQqo-3"
      },
      "outputs": [
        {
          "name": "stdout",
          "output_type": "stream",
          "text": [
            "X_train:\n",
            "     0    1    2         3         4\n",
            "0  0.0  0.0  1.0 -0.191592 -1.078126\n",
            "1  0.0  1.0  0.0 -0.014117 -0.070132\n",
            "2  1.0  0.0  0.0  0.566709  0.633562\n",
            "3  0.0  0.0  1.0  -0.30453 -0.307866\n",
            "4  0.0  0.0  1.0 -1.901801 -1.420464\n",
            "5  1.0  0.0  0.0  1.147534  1.232653\n",
            "6  0.0  1.0  0.0  1.437947  1.574991\n",
            "7  1.0  0.0  0.0  -0.74015 -0.564619 \n",
            "\n",
            " X_test:\n",
            "     0    1    2         3         4\n",
            "0  0.0  1.0  0.0 -1.466182 -0.906957\n",
            "1  1.0  0.0  0.0 -0.449737   0.20564\n"
          ]
        }
      ],
      "source": [
        "from sklearn.preprocessing import StandardScaler\n",
        "sc = StandardScaler()\n",
        "X_train[:, 3:] = sc.fit_transform(X_train[:, 3:])\n",
        "X_test[:, 3:] = sc.transform(X_test[:, 3:])\n",
        "\n",
        "print(f\"X_train:\\n{pd.DataFrame(X_train)} \\n\\n X_test:\\n{pd.DataFrame(X_test)}\")"
      ]
    }
  ],
  "metadata": {
    "colab": {
      "collapsed_sections": [],
      "name": "data_preprocessing_tools.ipynb",
      "provenance": [],
      "toc_visible": true
    },
    "kernelspec": {
      "display_name": "Python 3",
      "name": "python3"
    },
    "language_info": {
      "codemirror_mode": {
        "name": "ipython",
        "version": 3
      },
      "file_extension": ".py",
      "mimetype": "text/x-python",
      "name": "python",
      "nbconvert_exporter": "python",
      "pygments_lexer": "ipython3",
      "version": "3.11.5"
    }
  },
  "nbformat": 4,
  "nbformat_minor": 0
}
